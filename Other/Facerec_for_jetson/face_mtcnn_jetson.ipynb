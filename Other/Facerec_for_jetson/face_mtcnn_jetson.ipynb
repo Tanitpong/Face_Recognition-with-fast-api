{
 "metadata": {
  "language_info": {
   "codemirror_mode": {
    "name": "ipython",
    "version": 3
   },
   "file_extension": ".py",
   "mimetype": "text/x-python",
   "name": "python",
   "nbconvert_exporter": "python",
   "pygments_lexer": "ipython3",
   "version": "3.7.10"
  },
  "orig_nbformat": 2,
  "kernelspec": {
   "name": "python3710jvsc74a57bd0fae11e5be1a32264965f1ca5ebfd19a96601d11ff6545905c2a2bf447368c867",
   "display_name": "Python 3.7.10 64-bit ('FastApi_Face': conda)"
  },
  "metadata": {
   "interpreter": {
    "hash": "fae11e5be1a32264965f1ca5ebfd19a96601d11ff6545905c2a2bf447368c867"
   }
  }
 },
 "nbformat": 4,
 "nbformat_minor": 2,
 "cells": [
  {
   "cell_type": "code",
   "execution_count": 2,
   "metadata": {},
   "outputs": [
    {
     "output_type": "stream",
     "name": "stdout",
     "text": [
      "Python 3.7.10\n"
     ]
    }
   ],
   "source": [
    "!python --version"
   ]
  },
  {
   "cell_type": "code",
   "execution_count": 3,
   "metadata": {},
   "outputs": [],
   "source": [
    "from matplotlib import pyplot\n",
    "from matplotlib.patches import Rectangle\n",
    "from mtcnn.mtcnn import MTCNN\n",
    " \n",
    "# draw an image with detected objects\n",
    "def draw_image_with_boxes(filename, result_list):\n",
    "\t# load the image\n",
    "\tdata = pyplot.imread(filename)\n",
    "\t# plot the image\n",
    "\tpyplot.imshow(data)\n",
    "\t# get the context for drawing boxes\n",
    "\tax = pyplot.gca()\n",
    "\t# plot each box\n",
    "\tfor result in result_list:\n",
    "\t\t# get coordinates\n",
    "\t\tx, y, width, height = result['box']\n",
    "\t\t# create the shape\n",
    "\t\trect = Rectangle((x, y), width, height, fill=False, color='red')\n",
    "\t\t# draw the box\n",
    "\t\tax.add_patch(rect)\n",
    "\t# show the plot\n",
    "\tpyplot.show()\n",
    " \n",
    "filename = r'D:\\[0]PyScript\\Face_Recognition-with-fast-api\\Face_Recognition-with-fast-api\\train\\Beeby\\310854.jpg'\n",
    "# load image from file\n",
    "pixels = pyplot.imread(filename)\n",
    "# create the detector, using default weights\n",
    "detector = MTCNN()\n",
    "# detect faces in the image\n",
    "faces = detector.detect_faces(pixels)\n",
    "# display faces on the original image\n",
    "draw_image_with_boxes(filename, faces)"
   ]
  },
  {
   "cell_type": "code",
   "execution_count": 1,
   "metadata": {},
   "outputs": [
    {
     "output_type": "stream",
     "name": "stdout",
     "text": [
      "Hello World\n"
     ]
    }
   ],
   "source": [
    "print('Hello World')"
   ]
  },
  {
   "cell_type": "code",
   "execution_count": null,
   "metadata": {},
   "outputs": [],
   "source": []
  }
 ]
}